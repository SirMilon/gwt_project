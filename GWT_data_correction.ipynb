{
 "cells": [
  {
   "cell_type": "code",
   "execution_count": 2,
   "id": "a99bf105",
   "metadata": {},
   "outputs": [
    {
     "name": "stdout",
     "output_type": "stream",
     "text": [
      "5,2,Henne,2,25,-4,6,11,3,0,0,8,3,0,54\n",
      "8,3,Tobi,2,1,-4,0,10,29,12,0,8,3,2,63\n",
      "35,12,Matze,3,23,2,1,7,13,6,9,0,3,2,69\n",
      "37,13,Henne,2,18,-3,4,6,14,8,9,4,3,0,65\n",
      "43,16,Matze,4,46,5,2,4,11,8,21,4,3,0,108\n",
      "56,21,Henne,0,51,-8,0,3,14,6,0,8,0,0,74\n",
      "86,31,Matze,3,3,15,8,11,26,8,11,0,3,2,90\n",
      "101,36,Henne,0,2,10,7,2,12,13,18,0,3,0,67\n",
      "111,39,Til,2,3,-1,14,18,3,11,11,0,3,2,66\n",
      "130,46,Til,3,16,2,7,0,16,16,6,0,3,0,69\n",
      "132,47,Til,2,5,-4,6,18,21,13,12,0,3,0,76\n",
      "137,49,Colin,3,8,-4,6,7,11,7,19,0,0,2,59\n",
      "143,51,Henne,2,16,-11,12,10,0,11,21,0,3,2,66\n",
      "147,52,Til,4,7,29,7,4,21,3,9,0,3,2,89\n",
      "156,55,Til,3,3,32,19,0,27,8,12,0,3,0,107\n",
      "157,56,Henne,7,4,1,33,7,6,11,15,8,3,2,97\n"
     ]
    }
   ],
   "source": [
    "\n",
    "\n",
    "with open(\"./GWT_data.csv\", \"r\") as GWT_data:\n",
    "    for line in GWT_data:\n",
    "        liste = line.strip().split(\",\")\n",
    "        #print(liste)\n",
    "        \n",
    "        if liste[0] == \"zeilen_id\":\n",
    "            GWT_data_corrected = open(\"./GWT_data_corrected.csv\", \"w\")\n",
    "            GWT_data_corrected.write(line)\n",
    "            GWT_data_corrected.close()\n",
    "            continue\n",
    "            \n",
    "            \n",
    "        gesamtpunkte = sum(int(i) for i in liste[3:14])\n",
    "        #print(gesamtpunkte)\n",
    "        \n",
    "        if gesamtpunkte == int(liste[14]):\n",
    "            line_no_correction = \",\".join(liste)\n",
    "            GWT_data_corrected = open(\"./GWT_data_corrected.csv\", \"a\")\n",
    "            GWT_data_corrected.write(line_no_correction + \"\\n\")\n",
    "            GWT_data_corrected.close()\n",
    "        \n",
    "        if gesamtpunkte != int(liste[14]):\n",
    "            liste[14] = str(gesamtpunkte)\n",
    "            line_corrected = \",\".join(liste)\n",
    "            GWT_data_corrected = open(\"./GWT_data_corrected.csv\", \"a\")\n",
    "            GWT_data_corrected.write(line_corrected + \"\\n\")\n",
    "            print(line_corrected)\n",
    "            \n",
    "        \n",
    "        #if liste[0] == \"6\":\n",
    "            #break\n",
    "            \n",
    "        \n",
    "        "
   ]
  },
  {
   "cell_type": "code",
   "execution_count": null,
   "id": "6001e046",
   "metadata": {},
   "outputs": [],
   "source": []
  }
 ],
 "metadata": {
  "kernelspec": {
   "display_name": "Python 3 (ipykernel)",
   "language": "python",
   "name": "python3"
  },
  "language_info": {
   "codemirror_mode": {
    "name": "ipython",
    "version": 3
   },
   "file_extension": ".py",
   "mimetype": "text/x-python",
   "name": "python",
   "nbconvert_exporter": "python",
   "pygments_lexer": "ipython3",
   "version": "3.9.7"
  }
 },
 "nbformat": 4,
 "nbformat_minor": 5
}
