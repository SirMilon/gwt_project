{
 "cells": [
  {
   "cell_type": "code",
   "execution_count": 203,
   "metadata": {},
   "outputs": [],
   "source": [
    "class Player():\n",
    "\n",
    "    def __init__(self, player_name, number_of_games = 0):\n",
    "        self.player_name = player_name\n",
    "        self.number_of_games = number_of_games\n",
    "        self.max_score = 0\n",
    "        self.cumulative_score = 0\n",
    "        self.average_score = 0\n",
    "\n",
    "    def get_num_of_games(self):\n",
    "        return self.number_of_games\n",
    "\n"
   ]
  },
  {
   "cell_type": "code",
   "execution_count": 204,
   "metadata": {},
   "outputs": [],
   "source": [
    "class Players():\n",
    "    total_num_of_players = 0\n",
    "    all_players = {}\n",
    "\n",
    "    #Adding new players to the dictionary and adjusting the number_of_games played for existing players.\n",
    "    def create_new_player(name):\n",
    "        if name not in Players.all_players.keys():\n",
    "            Players.all_players[name] = Player(name)\n",
    "        Players.all_players[name].number_of_games += 1\n",
    "\n",
    "    #Setting and adjusting the max_score for each individual player.\n",
    "    def update_max_score(name, score):\n",
    "        if int(score) > Players.all_players[name].max_score:\n",
    "            Players.all_players[name].max_score = int(score)\n",
    "\n",
    "    #Calculating the cumulative_score for each individual player.\n",
    "    def update_cumulative_score(name, score):\n",
    "        Players.all_players[name].cumulative_score = Players.all_players[name].cumulative_score + int(score)\n",
    "        #print(Players.all_players[name].cumulative_score)\n",
    "\n",
    "    #Setting and adjusting the median_score for each individual player.\n",
    "    def update_average_score(name):\n",
    "        Players.all_players[name].average_score = Players.all_players[name].cumulative_score / Players.all_players[name].number_of_games\n",
    "        #print(Players.all_players[name].median_score)\n",
    "            \n",
    "    def get_players():\n",
    "        return all_players\n"
   ]
  },
  {
   "cell_type": "code",
   "execution_count": 205,
   "metadata": {},
   "outputs": [],
   "source": [
    "import csv\n",
    "\n",
    "#Checking for new players and results based on an existing csv file, calling the create_new_players function to update the Players dictionary.\n",
    "def add_new_players(file_name):\n",
    "    with open(file_name, \"r\") as data:\n",
    "        scoresheets = csv.reader(data, delimiter=\",\")\n",
    "        for line in scoresheets:\n",
    "            if line[2] == \"spieler\":\n",
    "                continue\n",
    "            else:\n",
    "                #print(line)\n",
    "                #print(\", \".join(line))\n",
    "                player_name = line[2]\n",
    "                #print(player_name)\n",
    "                game_score = line[14]\n",
    "                #print(game_score)\n",
    "                Players.create_new_player(player_name)\n",
    "                Players.update_max_score(player_name, game_score)\n",
    "                Players.update_cumulative_score(player_name, game_score)\n",
    "                Players.update_average_score(player_name)\n",
    "        \n",
    "\n",
    "        \n"
   ]
  },
  {
   "cell_type": "code",
   "execution_count": 206,
   "metadata": {},
   "outputs": [],
   "source": [
    "add_new_players(\"./GWT_data_corrected.csv\")"
   ]
  },
  {
   "cell_type": "code",
   "execution_count": 207,
   "metadata": {},
   "outputs": [
    {
     "data": {
      "text/plain": [
       "{'Lilli': <__main__.Player at 0x7fee3910dc70>,\n",
       " 'Micha': <__main__.Player at 0x7fee3910ddc0>,\n",
       " 'Matze': <__main__.Player at 0x7fee3910d1f0>,\n",
       " 'Til': <__main__.Player at 0x7fee390e3520>,\n",
       " 'Henne': <__main__.Player at 0x7fee39110b80>,\n",
       " 'Tobi': <__main__.Player at 0x7fee390f98e0>,\n",
       " 'Svenja': <__main__.Player at 0x7fee390f9ca0>,\n",
       " 'Pauline': <__main__.Player at 0x7fee390f95e0>,\n",
       " 'Bernhard': <__main__.Player at 0x7fee390f9100>,\n",
       " 'Nick': <__main__.Player at 0x7fee390f9160>,\n",
       " 'Toebi': <__main__.Player at 0x7fee390f9a00>,\n",
       " 'Danny': <__main__.Player at 0x7fee390f9fa0>,\n",
       " 'Hannah': <__main__.Player at 0x7fee390f9e50>,\n",
       " 'Wiebke': <__main__.Player at 0x7fee390f99d0>,\n",
       " 'Manu': <__main__.Player at 0x7fee686df7f0>,\n",
       " 'Colin': <__main__.Player at 0x7fee686df5b0>,\n",
       " 'Joern': <__main__.Player at 0x7fee686df6d0>,\n",
       " 'Judith': <__main__.Player at 0x7fee686df3d0>,\n",
       " 'Rene': <__main__.Player at 0x7fee686dfb20>,\n",
       " 'Felix': <__main__.Player at 0x7fee686df0d0>,\n",
       " 'Vanessa': <__main__.Player at 0x7fee686df100>}"
      ]
     },
     "execution_count": 207,
     "metadata": {},
     "output_type": "execute_result"
    }
   ],
   "source": [
    "Players.all_players"
   ]
  },
  {
   "cell_type": "code",
   "execution_count": 209,
   "metadata": {},
   "outputs": [
    {
     "name": "stdout",
     "output_type": "stream",
     "text": [
      "Lilli 2 76 131 65.5\n",
      "Micha 12 149 1098 91.5\n",
      "Matze 20 110 1481 74.05\n",
      "Til 54 133 3700 68.51851851851852\n",
      "Henne 53 129 4123 77.79245283018868\n",
      "Tobi 11 102 758 68.9090909090909\n",
      "Svenja 7 106 556 79.42857142857143\n",
      "Pauline 11 94 654 59.45454545454545\n",
      "Bernhard 1 54 54 54.0\n",
      "Nick 1 44 44 44.0\n",
      "Toebi 1 25 25 25.0\n",
      "Danny 1 58 58 58.0\n",
      "Hannah 1 53 53 53.0\n",
      "Wiebke 1 62 62 62.0\n",
      "Manu 1 55 55 55.0\n",
      "Colin 3 65 176 58.666666666666664\n",
      "Joern 1 39 39 39.0\n",
      "Judith 1 73 73 73.0\n",
      "Rene 1 81 81 81.0\n",
      "Felix 1 57 57 57.0\n",
      "Vanessa 1 76 76 76.0\n"
     ]
    }
   ],
   "source": [
    "for key, value in Players.all_players.items():\n",
    "    print(key, value.number_of_games, value.max_score, value.cumulative_score, value.average_score)"
   ]
  },
  {
   "cell_type": "code",
   "execution_count": null,
   "metadata": {},
   "outputs": [],
   "source": []
  }
 ],
 "metadata": {
  "interpreter": {
   "hash": "a30133d7e2586e5e77681fa80d8247afa624687ed1939ed3ca80ad4b7b2167df"
  },
  "kernelspec": {
   "display_name": "Python 3.9.7 ('base')",
   "language": "python",
   "name": "python3"
  },
  "language_info": {
   "codemirror_mode": {
    "name": "ipython",
    "version": 3
   },
   "file_extension": ".py",
   "mimetype": "text/x-python",
   "name": "python",
   "nbconvert_exporter": "python",
   "pygments_lexer": "ipython3",
   "version": "3.9.7"
  },
  "orig_nbformat": 4
 },
 "nbformat": 4,
 "nbformat_minor": 2
}
