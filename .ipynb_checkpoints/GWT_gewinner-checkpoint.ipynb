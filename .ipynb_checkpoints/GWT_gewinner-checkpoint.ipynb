{
 "cells": [
  {
   "cell_type": "markdown",
   "id": "977586f4",
   "metadata": {},
   "source": [
    "# Ziele\n",
    "\n",
    "- Klasse definieren: Spieler\n",
    "- Gewinner*in pro Spiel per Funktion abrufen\n",
    "\n"
   ]
  },
  {
   "cell_type": "code",
   "execution_count": 15,
   "id": "a509f9ca",
   "metadata": {},
   "outputs": [
    {
     "name": "stdout",
     "output_type": "stream",
     "text": [
      "['Lilli', 'Micha', 'Matze', 'Til', 'Henne', 'Tobi', 'Svenja', 'Pauline', 'Bernhard', 'Nick', 'Toebi', 'Danny', 'Hannah', 'Wiebke', 'Manu', 'Colin', 'Joern', 'Judith', 'Rene', 'Felix', 'Vanessa']\n"
     ]
    }
   ],
   "source": [
    "player_liste = []\n",
    "\n",
    "with open(\"./GWT_data_corrected.csv\", \"r\") as GWT_data_corrected:\n",
    "    for line in GWT_data_corrected:\n",
    "        liste_data_corrected = line.strip().split(\",\")\n",
    "        \n",
    "        if liste_data_corrected[0] == \"zeilen_id\":\n",
    "            continue\n",
    "            \n",
    "        if liste_data_corrected[2] not in player_liste:\n",
    "            player_liste.append(liste_data_corrected[2])\n",
    "            \n",
    "print(player_liste)"
   ]
  },
  {
   "cell_type": "code",
   "execution_count": 34,
   "id": "aba5cfbc",
   "metadata": {},
   "outputs": [
    {
     "ename": "NameError",
     "evalue": "name 'Micha' is not defined",
     "output_type": "error",
     "traceback": [
      "\u001b[0;31m---------------------------------------------------------------------------\u001b[0m",
      "\u001b[0;31mNameError\u001b[0m                                 Traceback (most recent call last)",
      "\u001b[0;32m/var/folders/yj/8y5s1zkn4p90y2twk_rm7_rc0000gn/T/ipykernel_10300/215079574.py\u001b[0m in \u001b[0;36m<module>\u001b[0;34m\u001b[0m\n\u001b[1;32m     13\u001b[0m \u001b[0;34m\u001b[0m\u001b[0m\n\u001b[1;32m     14\u001b[0m \u001b[0;31m#print(players)\u001b[0m\u001b[0;34m\u001b[0m\u001b[0;34m\u001b[0m\u001b[0m\n\u001b[0;32m---> 15\u001b[0;31m \u001b[0mMicha\u001b[0m\u001b[0;34m.\u001b[0m\u001b[0mplayer_name\u001b[0m\u001b[0;34m\u001b[0m\u001b[0;34m\u001b[0m\u001b[0m\n\u001b[0m",
      "\u001b[0;31mNameError\u001b[0m: name 'Micha' is not defined"
     ]
    }
   ],
   "source": [
    "class Player():\n",
    "    \n",
    "    def __init__(self, name):\n",
    "        self.name = name\n",
    "        \n",
    "    def player_name(self):\n",
    "        print(self.name)\n",
    "\n",
    "players = {}        \n",
    "        \n",
    "for i in player_liste:\n",
    "    players[i] = Player(i)\n",
    "    \n",
    "#print(players)\n",
    "Micha.player_name"
   ]
  },
  {
   "cell_type": "code",
   "execution_count": 26,
   "id": "deabca15",
   "metadata": {},
   "outputs": [
    {
     "ename": "SyntaxError",
     "evalue": "invalid syntax (1667493056.py, line 4)",
     "output_type": "error",
     "traceback": [
      "\u001b[0;36m  File \u001b[0;32m\"/var/folders/yj/8y5s1zkn4p90y2twk_rm7_rc0000gn/T/ipykernel_10300/1667493056.py\"\u001b[0;36m, line \u001b[0;32m4\u001b[0m\n\u001b[0;31m    for GWT_data[0] == \"zeilen_id\":\u001b[0m\n\u001b[0m                                  ^\u001b[0m\n\u001b[0;31mSyntaxError\u001b[0m\u001b[0;31m:\u001b[0m invalid syntax\n"
     ]
    }
   ],
   "source": [
    "GWT_data = open(\"./GWT_data.csv\", \"r\")\n",
    "GWT_data_corrected = open(\"./GWT_data_corrected.csv\", \"r\")\n",
    "\n",
    "for GWT_data[0] == \"zeilen_id\":\n",
    "    continue\n",
    "for GWT_data_corrected == \"zeilen_id\":\n",
    "    continue\n",
    "\n",
    "\n",
    "for line in GWT_data:\n",
    "    liste_data = line.strip().split(\",\")\n",
    "    \n",
    "    for line in GWT_data_corrected:\n",
    "        liste_data_corrected = line.strip().split(\",\")\n",
    "        \n",
    "        if GWT_data[14] == GWT_data_corrected[14]:\n",
    "            continue\n",
    "            \n",
    "        #else:\n",
    "            #print(\"Alter Gewinner: \" + GWT_data[2] + \": \" + GWT_data[14] + \" / \" + \"Neuer Gewinner: \" + GWT_data_corrected[14])\n",
    "    \n",
    "\n",
    "\n",
    "print(liste_data)\n",
    "print(liste_data_corrected)"
   ]
  },
  {
   "cell_type": "code",
   "execution_count": null,
   "id": "c690d5b2",
   "metadata": {},
   "outputs": [],
   "source": []
  },
  {
   "cell_type": "code",
   "execution_count": null,
   "id": "d99a86a3",
   "metadata": {},
   "outputs": [],
   "source": []
  }
 ],
 "metadata": {
  "kernelspec": {
   "display_name": "Python 3 (ipykernel)",
   "language": "python",
   "name": "python3"
  },
  "language_info": {
   "codemirror_mode": {
    "name": "ipython",
    "version": 3
   },
   "file_extension": ".py",
   "mimetype": "text/x-python",
   "name": "python",
   "nbconvert_exporter": "python",
   "pygments_lexer": "ipython3",
   "version": "3.9.7"
  }
 },
 "nbformat": 4,
 "nbformat_minor": 5
}
