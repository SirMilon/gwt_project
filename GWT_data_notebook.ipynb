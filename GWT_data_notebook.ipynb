{
 "cells": [
  {
   "cell_type": "markdown",
   "id": "b6708f95",
   "metadata": {},
   "source": [
    "# Ideen:\n",
    "\n",
    "- durchschnittliche Gesamtpunktzahl pro Spieler\n",
    "- Gewinnrate pro Spieler\n",
    "- Wer spielt mit wem?\n",
    "- Punktekategorie mit dem höchsten durchschnittlichen Punktewert."
   ]
  },
  {
   "cell_type": "markdown",
   "id": "f980d1a8",
   "metadata": {},
   "source": [
    "# Mitspieler*innen Dictionary"
   ]
  },
  {
   "cell_type": "code",
   "execution_count": 186,
   "id": "658e4b8d",
   "metadata": {},
   "outputs": [],
   "source": [
    "with open(\"GWT_data.csv\", \"r\") as file:\n",
    "\n",
    "    spiele = {}\n",
    "    \n",
    "    for line in file:\n",
    "        spieler = line.strip().split(\",\")[2]\n",
    "        spiel_id = line.strip().split(\",\")[1]\n",
    "        \n",
    "        if spiel_id not in spiele.keys():\n",
    "            spiele[spiel_id] = []\n",
    "        spiele[spiel_id].append(spieler)"
   ]
  },
  {
   "cell_type": "code",
   "execution_count": 187,
   "id": "493df8c4",
   "metadata": {},
   "outputs": [
    {
     "data": {
      "text/plain": [
       "{'spiel': ['spieler'],\n",
       " '1': ['Lilli', 'Micha', 'Matze', 'Til'],\n",
       " '2': ['Henne', 'Til'],\n",
       " '3': ['Henne', 'Tobi'],\n",
       " '4': ['Henne', 'Svenja', 'Til'],\n",
       " '5': ['Henne', 'Til'],\n",
       " '6': ['Henne', 'Til'],\n",
       " '7': ['Pauline', 'Henne', 'Til'],\n",
       " '8': ['Micha', 'Henne', 'Til'],\n",
       " '9': ['Micha', 'Henne', 'Til'],\n",
       " '10': ['Henne', 'Tobi', 'Matze', 'Til'],\n",
       " '11': ['Henne', 'Tobi', 'Bernhard', 'Til'],\n",
       " '12': ['Henne', 'Micha', 'Matze'],\n",
       " '13': ['Matze', 'Henne'],\n",
       " '14': ['Matze', 'Henne'],\n",
       " '15': ['Henne', 'Micha'],\n",
       " '16': ['Henne', 'Matze'],\n",
       " '17': ['Henne', 'Nick'],\n",
       " '18': ['Henne', 'Micha', 'Til'],\n",
       " '19': ['Toebi', 'Tobi', 'Henne', 'Til'],\n",
       " '20': ['Svenja', 'Henne', 'Til'],\n",
       " '21': ['Henne', 'Pauline', 'Til', 'Tobi'],\n",
       " '22': ['Til', 'Matze'],\n",
       " '23': ['Henne', 'Matze'],\n",
       " '24': ['Matze', 'Micha', 'Henne', 'Til'],\n",
       " '25': ['Matze', 'Pauline', 'Til'],\n",
       " '26': ['Henne', 'Pauline', 'Til'],\n",
       " '27': ['Henne', 'Pauline', 'Til'],\n",
       " '28': ['Danny', 'Hannah', 'Wiebke', 'Tobi'],\n",
       " '29': ['Til', 'Matze'],\n",
       " '30': ['Til', 'Matze'],\n",
       " '31': ['Til', 'Matze', 'Henne'],\n",
       " '32': ['Micha', 'Til', 'Lilli', 'Manu'],\n",
       " '33': ['Matze', 'Henne', 'Til'],\n",
       " '34': ['Matze', 'Henne', 'Til'],\n",
       " '35': ['Til', 'Matze', 'Henne'],\n",
       " '36': ['Henne', 'Tobi', 'Til'],\n",
       " '37': ['Henne', 'Svenja', 'Til'],\n",
       " '38': ['Henne', 'Svenja', 'Til'],\n",
       " '39': ['Henne', 'Til'],\n",
       " '40': ['Henne', 'Til'],\n",
       " '41': ['Henne', 'Til'],\n",
       " '42': ['Henne', 'Til'],\n",
       " '43': ['Henne', 'Colin', 'Til'],\n",
       " '44': ['Henne', 'Colin', 'Tobi', 'Til'],\n",
       " '45': ['Joern', 'Judith', 'Matze', 'Til'],\n",
       " '46': ['Henne', 'Til'],\n",
       " '47': ['Henne', 'Til'],\n",
       " '48': ['Matze', 'Til'],\n",
       " '49': ['Matze', 'Pauline', 'Colin', 'Til'],\n",
       " '50': ['Henne', 'Micha', 'Til'],\n",
       " '51': ['Tobi', 'Henne', 'Til'],\n",
       " '52': ['Henne', 'Matze', 'Til'],\n",
       " '53': ['Rene', 'Micha', 'Til'],\n",
       " '54': ['Henne', 'Micha', 'Til'],\n",
       " '55': ['Pauline', 'Henne', 'Til'],\n",
       " '56': ['Henne', 'Tobi', 'Til'],\n",
       " '57': ['Henne', 'Til'],\n",
       " '58': ['Felix', 'Vanessa', 'Til'],\n",
       " '59': ['Svenja', 'Henne', 'Til'],\n",
       " '60': ['Tobi', 'Pauline', 'Henne', 'Til'],\n",
       " '61': ['Svenja', 'Henne'],\n",
       " '62': ['Pauline', 'Henne', 'Micha', 'Til'],\n",
       " '63': ['Henne', 'Svenja', 'Pauline'],\n",
       " '64': ['Henne', 'Til'],\n",
       " '65': ['Henne', 'Pauline', 'Til']}"
      ]
     },
     "execution_count": 187,
     "metadata": {},
     "output_type": "execute_result"
    }
   ],
   "source": [
    "spiele"
   ]
  },
  {
   "cell_type": "markdown",
   "id": "28f59442",
   "metadata": {},
   "source": [
    "# Gewinner*innen (Gesamtpunktzahl NICHT korrigiert)"
   ]
  },
  {
   "cell_type": "code",
   "execution_count": 194,
   "id": "25db25d8",
   "metadata": {
    "scrolled": true
   },
   "outputs": [
    {
     "name": "stdout",
     "output_type": "stream",
     "text": [
      "['Spiel: 1 / Gewinner: Micha / Punktzahl: 89', 'Spiel: 2 / Gewinner: Til / Punktzahl: 61', 'Spiel: 3 / Gewinner: Tobi / Punktzahl: 73', 'Spiel: 4 / Gewinner: Henne / Punktzahl: 89', 'Spiel: 5 / Gewinner: Henne / Punktzahl: 80', 'Spiel: 6 / Gewinner: Henne / Punktzahl: 103', 'Spiel: 7 / Gewinner: Til / Punktzahl: 83', 'Spiel: 8 / Gewinner: Micha / Punktzahl: 148', 'Spiel: 9 / Gewinner: Henne / Punktzahl: 109', 'Spiel: 10 / Gewinner: Matze / Punktzahl: 70', 'Spiel: 11 / Gewinner: Tobi / Punktzahl: 79', 'Spiel: 12 / Gewinner: Henne und Matze / Punktzahl: 70', 'Spiel: 13 / Gewinner: Matze / Punktzahl: 85', 'Spiel: 14 / Gewinner: Matze und Henne / Punktzahl: 90', 'Spiel: 15 / Gewinner: Micha / Punktzahl: 95', 'Spiel: 16 / Gewinner: Matze / Punktzahl: 105', 'Spiel: 17 / Gewinner: Henne / Punktzahl: 53', 'Spiel: 18 / Gewinner: Micha / Punktzahl: 149', 'Spiel: 19 / Gewinner: Henne / Punktzahl: 85', 'Spiel: 20 / Gewinner: Til / Punktzahl: 63', 'Spiel: 21 / Gewinner: Henne / Punktzahl: 76', 'Spiel: 22 / Gewinner: Matze / Punktzahl: 75', 'Spiel: 23 / Gewinner: Henne / Punktzahl: 70', 'Spiel: 24 / Gewinner: Micha / Punktzahl: 82', 'Spiel: 25 / Gewinner: Matze / Punktzahl: 70', 'Spiel: 26 / Gewinner: Til / Punktzahl: 87', 'Spiel: 27 / Gewinner: Til / Punktzahl: 84', 'Spiel: 28 / Gewinner: Tobi / Punktzahl: 77', 'Spiel: 29 / Gewinner: Til / Punktzahl: 48', 'Spiel: 30 / Gewinner: Matze / Punktzahl: 38', 'Spiel: 31 / Gewinner: Matze / Punktzahl: 88', 'Spiel: 32 / Gewinner: Micha / Punktzahl: 92', 'Spiel: 33 / Gewinner: Matze / Punktzahl: 107', 'Spiel: 34 / Gewinner: Henne / Punktzahl: 49', 'Spiel: 35 / Gewinner: Til / Punktzahl: 76', 'Spiel: 36 / Gewinner: Henne / Punktzahl: 65', 'Spiel: 37 / Gewinner: Henne / Punktzahl: 94', 'Spiel: 38 / Gewinner: Svenja / Punktzahl: 106', 'Spiel: 39 / Gewinner: Til / Punktzahl: 67', 'Spiel: 40 / Gewinner: Henne / Punktzahl: 87', 'Spiel: 41 / Gewinner: Til / Punktzahl: 56', 'Spiel: 42 / Gewinner: Henne / Punktzahl: 123', 'Spiel: 43 / Gewinner: Til / Punktzahl: 67', 'Spiel: 44 / Gewinner: Til / Punktzahl: 103', 'Spiel: 45 / Gewinner: Matze / Punktzahl: 110', 'Spiel: 46 / Gewinner: Til / Punktzahl: 79', 'Spiel: 47 / Gewinner: Henne / Punktzahl: 98', 'Spiel: 48 / Gewinner: Matze / Punktzahl: 78', 'Spiel: 49 / Gewinner: Matze / Punktzahl: 65', 'Spiel: 50 / Gewinner: Henne / Punktzahl: 84', 'Spiel: 51 / Gewinner: Til / Punktzahl: 77', 'Spiel: 52 / Gewinner: Matze / Punktzahl: 90', 'Spiel: 53 / Gewinner: Micha / Punktzahl: 95', 'Spiel: 54 / Gewinner: Henne / Punktzahl: 123', 'Spiel: 55 / Gewinner: Henne / Punktzahl: 125', 'Spiel: 56 / Gewinner: Til / Punktzahl: 99', 'Spiel: 57 / Gewinner: Henne / Punktzahl: 98', 'Spiel: 58 / Gewinner: Til / Punktzahl: 133', 'Spiel: 59 / Gewinner: Svenja / Punktzahl: 106', 'Spiel: 60 / Gewinner: Tobi und Henne / Punktzahl: 102', 'Spiel: 61 / Gewinner: Svenja / Punktzahl: 64', 'Spiel: 62 / Gewinner: Pauline und Henne / Punktzahl: 72', 'Spiel: 63 / Gewinner: Henne / Punktzahl: 95', 'Spiel: 64 / Gewinner: Henne / Punktzahl: 56', 'Spiel: 65 / Gewinner: Henne / Punktzahl: 129']\n"
     ]
    }
   ],
   "source": [
    "with open(\"GWT_data.csv\", \"r\") as file:\n",
    "    spiel_id = 1\n",
    "    gesamtwert = 0\n",
    "    gewinner_liste = []\n",
    "    \n",
    "    for line in file:\n",
    "        liste = line.strip().split(\",\")\n",
    "        #print(liste)\n",
    "        if liste[0] == \"zeilen_id\":\n",
    "            continue\n",
    "        \n",
    "        \n",
    "        \n",
    "        if int(liste[1]) != spiel_id:\n",
    "            gewinner_liste.append(\"Spiel: \" + str(int(liste[1]) - 1) + \" / Gewinner: \" + str(gewinner_name) + \" / Punktzahl: \" + str(gesamtwert))\n",
    "            gesamtwert = 0\n",
    "            spiel_id += 1\n",
    "\n",
    "        \n",
    "        if int(liste[14]) > gesamtwert:\n",
    "            gesamtwert = int(liste[14])\n",
    "            gewinner_name = liste[2]\n",
    "            \n",
    "        if int(liste[14]) == gesamtwert and gewinner_name != liste[2]:\n",
    "            gewinner_name = gewinner_name + \" und \" + liste[2]\n",
    "            \n",
    "            \n",
    "            \n",
    "    gewinner_liste.append(\"Spiel: \" + str(liste[1]) + \" / Gewinner: \" + gewinner_name + \" / Punktzahl: \" + str(gesamtwert))\n",
    "\n",
    "    \n",
    "    print(gewinner_liste)"
   ]
  },
  {
   "cell_type": "code",
   "execution_count": 195,
   "id": "e241c4ce",
   "metadata": {},
   "outputs": [
    {
     "data": {
      "text/plain": [
       "['Spiel: 1 / Gewinner: Micha / Punktzahl: 89',\n",
       " 'Spiel: 2 / Gewinner: Til / Punktzahl: 61',\n",
       " 'Spiel: 3 / Gewinner: Tobi / Punktzahl: 73',\n",
       " 'Spiel: 4 / Gewinner: Henne / Punktzahl: 89',\n",
       " 'Spiel: 5 / Gewinner: Henne / Punktzahl: 80',\n",
       " 'Spiel: 6 / Gewinner: Henne / Punktzahl: 103',\n",
       " 'Spiel: 7 / Gewinner: Til / Punktzahl: 83',\n",
       " 'Spiel: 8 / Gewinner: Micha / Punktzahl: 148',\n",
       " 'Spiel: 9 / Gewinner: Henne / Punktzahl: 109',\n",
       " 'Spiel: 10 / Gewinner: Matze / Punktzahl: 70',\n",
       " 'Spiel: 11 / Gewinner: Tobi / Punktzahl: 79',\n",
       " 'Spiel: 12 / Gewinner: Henne und Matze / Punktzahl: 70',\n",
       " 'Spiel: 13 / Gewinner: Matze / Punktzahl: 85',\n",
       " 'Spiel: 14 / Gewinner: Matze und Henne / Punktzahl: 90',\n",
       " 'Spiel: 15 / Gewinner: Micha / Punktzahl: 95',\n",
       " 'Spiel: 16 / Gewinner: Matze / Punktzahl: 105',\n",
       " 'Spiel: 17 / Gewinner: Henne / Punktzahl: 53',\n",
       " 'Spiel: 18 / Gewinner: Micha / Punktzahl: 149',\n",
       " 'Spiel: 19 / Gewinner: Henne / Punktzahl: 85',\n",
       " 'Spiel: 20 / Gewinner: Til / Punktzahl: 63',\n",
       " 'Spiel: 21 / Gewinner: Henne / Punktzahl: 76',\n",
       " 'Spiel: 22 / Gewinner: Matze / Punktzahl: 75',\n",
       " 'Spiel: 23 / Gewinner: Henne / Punktzahl: 70',\n",
       " 'Spiel: 24 / Gewinner: Micha / Punktzahl: 82',\n",
       " 'Spiel: 25 / Gewinner: Matze / Punktzahl: 70',\n",
       " 'Spiel: 26 / Gewinner: Til / Punktzahl: 87',\n",
       " 'Spiel: 27 / Gewinner: Til / Punktzahl: 84',\n",
       " 'Spiel: 28 / Gewinner: Tobi / Punktzahl: 77',\n",
       " 'Spiel: 29 / Gewinner: Til / Punktzahl: 48',\n",
       " 'Spiel: 30 / Gewinner: Matze / Punktzahl: 38',\n",
       " 'Spiel: 31 / Gewinner: Matze / Punktzahl: 88',\n",
       " 'Spiel: 32 / Gewinner: Micha / Punktzahl: 92',\n",
       " 'Spiel: 33 / Gewinner: Matze / Punktzahl: 107',\n",
       " 'Spiel: 34 / Gewinner: Henne / Punktzahl: 49',\n",
       " 'Spiel: 35 / Gewinner: Til / Punktzahl: 76',\n",
       " 'Spiel: 36 / Gewinner: Henne / Punktzahl: 65',\n",
       " 'Spiel: 37 / Gewinner: Henne / Punktzahl: 94',\n",
       " 'Spiel: 38 / Gewinner: Svenja / Punktzahl: 106',\n",
       " 'Spiel: 39 / Gewinner: Til / Punktzahl: 67',\n",
       " 'Spiel: 40 / Gewinner: Henne / Punktzahl: 87',\n",
       " 'Spiel: 41 / Gewinner: Til / Punktzahl: 56',\n",
       " 'Spiel: 42 / Gewinner: Henne / Punktzahl: 123',\n",
       " 'Spiel: 43 / Gewinner: Til / Punktzahl: 67',\n",
       " 'Spiel: 44 / Gewinner: Til / Punktzahl: 103',\n",
       " 'Spiel: 45 / Gewinner: Matze / Punktzahl: 110',\n",
       " 'Spiel: 46 / Gewinner: Til / Punktzahl: 79',\n",
       " 'Spiel: 47 / Gewinner: Henne / Punktzahl: 98',\n",
       " 'Spiel: 48 / Gewinner: Matze / Punktzahl: 78',\n",
       " 'Spiel: 49 / Gewinner: Matze / Punktzahl: 65',\n",
       " 'Spiel: 50 / Gewinner: Henne / Punktzahl: 84',\n",
       " 'Spiel: 51 / Gewinner: Til / Punktzahl: 77',\n",
       " 'Spiel: 52 / Gewinner: Matze / Punktzahl: 90',\n",
       " 'Spiel: 53 / Gewinner: Micha / Punktzahl: 95',\n",
       " 'Spiel: 54 / Gewinner: Henne / Punktzahl: 123',\n",
       " 'Spiel: 55 / Gewinner: Henne / Punktzahl: 125',\n",
       " 'Spiel: 56 / Gewinner: Til / Punktzahl: 99',\n",
       " 'Spiel: 57 / Gewinner: Henne / Punktzahl: 98',\n",
       " 'Spiel: 58 / Gewinner: Til / Punktzahl: 133',\n",
       " 'Spiel: 59 / Gewinner: Svenja / Punktzahl: 106',\n",
       " 'Spiel: 60 / Gewinner: Tobi und Henne / Punktzahl: 102',\n",
       " 'Spiel: 61 / Gewinner: Svenja / Punktzahl: 64',\n",
       " 'Spiel: 62 / Gewinner: Pauline und Henne / Punktzahl: 72',\n",
       " 'Spiel: 63 / Gewinner: Henne / Punktzahl: 95',\n",
       " 'Spiel: 64 / Gewinner: Henne / Punktzahl: 56',\n",
       " 'Spiel: 65 / Gewinner: Henne / Punktzahl: 129']"
      ]
     },
     "execution_count": 195,
     "metadata": {},
     "output_type": "execute_result"
    }
   ],
   "source": [
    "gewinner_liste"
   ]
  },
  {
   "cell_type": "markdown",
   "id": "e83568ec",
   "metadata": {},
   "source": [
    "# Gesamtpunktzahl-Überprüfung"
   ]
  },
  {
   "cell_type": "code",
   "execution_count": 193,
   "id": "bed5e6cf",
   "metadata": {
    "scrolled": false
   },
   "outputs": [
    {
     "name": "stdout",
     "output_type": "stream",
     "text": [
      "Spiel: 2 Spieler*in: Henne Falsche Punktzahl: 51 Richtige Punktzahl: 54\n",
      "Spiel: 3 Spieler*in: Tobi Falsche Punktzahl: 73 Richtige Punktzahl: 63\n",
      "Spiel: 12 Spieler*in: Matze Falsche Punktzahl: 70 Richtige Punktzahl: 69\n",
      "Spiel: 13 Spieler*in: Henne Falsche Punktzahl: 66 Richtige Punktzahl: 65\n",
      "Spiel: 16 Spieler*in: Matze Falsche Punktzahl: 105 Richtige Punktzahl: 108\n",
      "Spiel: 21 Spieler*in: Henne Falsche Punktzahl: 76 Richtige Punktzahl: 74\n",
      "Spiel: 31 Spieler*in: Matze Falsche Punktzahl: 88 Richtige Punktzahl: 90\n",
      "Spiel: 36 Spieler*in: Henne Falsche Punktzahl: 65 Richtige Punktzahl: 67\n",
      "Spiel: 39 Spieler*in: Til Falsche Punktzahl: 67 Richtige Punktzahl: 66\n",
      "Spiel: 46 Spieler*in: Til Falsche Punktzahl: 79 Richtige Punktzahl: 69\n",
      "Spiel: 47 Spieler*in: Til Falsche Punktzahl: 75 Richtige Punktzahl: 76\n",
      "Spiel: 49 Spieler*in: Colin Falsche Punktzahl: 60 Richtige Punktzahl: 59\n",
      "Spiel: 51 Spieler*in: Henne Falsche Punktzahl: 68 Richtige Punktzahl: 66\n",
      "Spiel: 52 Spieler*in: Til Falsche Punktzahl: 88 Richtige Punktzahl: 89\n",
      "Spiel: 55 Spieler*in: Til Falsche Punktzahl: 108 Richtige Punktzahl: 107\n",
      "Spiel: 56 Spieler*in: Henne Falsche Punktzahl: 95 Richtige Punktzahl: 97\n"
     ]
    }
   ],
   "source": [
    "with open(\"GWT_data.csv\", \"r\") as file:\n",
    "    for line in file:\n",
    "        liste = line.strip().split(\",\")\n",
    "        #print(liste)\n",
    "        \n",
    "        if liste[0] == \"zeilen_id\":\n",
    "            continue\n",
    "            \n",
    "        int_liste = [int(x) for x in liste[3:14]]\n",
    "        #print(int_liste)\n",
    "        \n",
    "        if sum(int_liste) != int(liste[14]):\n",
    "            ergebnis_falsch = liste[14]\n",
    "            ergebnis_richtig = sum(int_liste)\n",
    "            \n",
    "            print(\"Spiel: \" + liste[1] + \" Spieler*in: \" + liste[2] + \" Falsche Punktzahl: \" + str(ergebnis_falsch) + \" Richtige Punktzahl: \" + str(ergebnis_richtig))"
   ]
  },
  {
   "cell_type": "code",
   "execution_count": null,
   "id": "ff1506fd",
   "metadata": {
    "scrolled": true
   },
   "outputs": [],
   "source": []
  },
  {
   "cell_type": "code",
   "execution_count": null,
   "id": "4d0e46fa",
   "metadata": {},
   "outputs": [],
   "source": []
  },
  {
   "cell_type": "code",
   "execution_count": 55,
   "id": "63d7faf6",
   "metadata": {},
   "outputs": [],
   "source": []
  },
  {
   "cell_type": "code",
   "execution_count": null,
   "id": "059b90fc",
   "metadata": {},
   "outputs": [],
   "source": []
  },
  {
   "cell_type": "code",
   "execution_count": 63,
   "id": "a0e9f125",
   "metadata": {},
   "outputs": [],
   "source": []
  },
  {
   "cell_type": "code",
   "execution_count": null,
   "id": "70aa9c54",
   "metadata": {},
   "outputs": [],
   "source": []
  },
  {
   "cell_type": "code",
   "execution_count": null,
   "id": "64b9f150",
   "metadata": {},
   "outputs": [],
   "source": []
  },
  {
   "cell_type": "code",
   "execution_count": null,
   "id": "0c86ffc8",
   "metadata": {},
   "outputs": [],
   "source": []
  },
  {
   "cell_type": "code",
   "execution_count": null,
   "id": "3b6e2f48",
   "metadata": {},
   "outputs": [],
   "source": []
  }
 ],
 "metadata": {
  "kernelspec": {
   "display_name": "Python 3 (ipykernel)",
   "language": "python",
   "name": "python3"
  },
  "language_info": {
   "codemirror_mode": {
    "name": "ipython",
    "version": 3
   },
   "file_extension": ".py",
   "mimetype": "text/x-python",
   "name": "python",
   "nbconvert_exporter": "python",
   "pygments_lexer": "ipython3",
   "version": "3.9.7"
  }
 },
 "nbformat": 4,
 "nbformat_minor": 5
}
